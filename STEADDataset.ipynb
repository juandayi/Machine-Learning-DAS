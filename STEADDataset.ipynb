{
  "nbformat": 4,
  "nbformat_minor": 0,
  "metadata": {
    "colab": {
      "name": "STEADDataset.ipynb",
      "provenance": [],
      "toc_visible": true,
      "mount_file_id": "1KCHmnUNVJedoeoIvR2eYf_lzIepxPtEd",
      "authorship_tag": "ABX9TyNWnUrNHLegsHFk3lZWhhBE",
      "include_colab_link": true
    },
    "kernelspec": {
      "name": "python3",
      "display_name": "Python 3"
    },
    "language_info": {
      "name": "python"
    }
  },
  "cells": [
    {
      "cell_type": "markdown",
      "metadata": {
        "id": "view-in-github",
        "colab_type": "text"
      },
      "source": [
        "<a href=\"https://colab.research.google.com/github/juandayi/Machine-Learning-DAS/blob/main/STEADDataset.ipynb\" target=\"_parent\"><img src=\"https://colab.research.google.com/assets/colab-badge.svg\" alt=\"Open In Colab\"/></a>"
      ]
    },
    {
      "cell_type": "code",
      "metadata": {
        "id": "Nwe6blZD3v8k"
      },
      "source": [
        "import pandas as pd\n",
        "import h5py\n",
        "import numpy as np\n",
        "import matplotlib.pyplot as plt"
      ],
      "execution_count": 28,
      "outputs": []
    },
    {
      "cell_type": "code",
      "metadata": {
        "id": "oILjBUoKPCzp"
      },
      "source": [
        ""
      ],
      "execution_count": 1,
      "outputs": []
    },
    {
      "cell_type": "code",
      "metadata": {
        "colab": {
          "base_uri": "https://localhost:8080/"
        },
        "id": "NBu0HD_54JYD",
        "outputId": "5c342999-d240-4fa4-ddf0-6130bec8f205"
      },
      "source": [
        "from google.colab import drive\n",
        "drive.mount('/content/gdrive')"
      ],
      "execution_count": 29,
      "outputs": [
        {
          "output_type": "stream",
          "text": [
            "Mounted at /content/gdrive\n"
          ],
          "name": "stdout"
        }
      ]
    },
    {
      "cell_type": "code",
      "metadata": {
        "colab": {
          "base_uri": "https://localhost:8080/"
        },
        "id": "hCdoWvkT7cuJ",
        "outputId": "bafcf021-4dac-48ae-c798-0a4e40a0dbee"
      },
      "source": [
        "\n",
        "df=pd.read_csv('gdrive/My Drive/Colab Notebooks/Seismic Dataset/unzipdataChunk2/chunk2.csv')"
      ],
      "execution_count": 30,
      "outputs": [
        {
          "output_type": "stream",
          "text": [
            "/usr/local/lib/python3.7/dist-packages/IPython/core/interactiveshell.py:2718: DtypeWarning: Columns (21) have mixed types.Specify dtype option on import or set low_memory=False.\n",
            "  interactivity=interactivity, compiler=compiler, result=result)\n"
          ],
          "name": "stderr"
        }
      ]
    },
    {
      "cell_type": "code",
      "metadata": {
        "colab": {
          "base_uri": "https://localhost:8080/"
        },
        "id": "JpMPAqPY4YJ6",
        "outputId": "9d2a39f7-ccf8-4b26-c923-ba8bdf1bb358"
      },
      "source": [
        "df.shape"
      ],
      "execution_count": 31,
      "outputs": [
        {
          "output_type": "execute_result",
          "data": {
            "text/plain": [
              "(200000, 35)"
            ]
          },
          "metadata": {
            "tags": []
          },
          "execution_count": 31
        }
      ]
    },
    {
      "cell_type": "code",
      "metadata": {
        "colab": {
          "base_uri": "https://localhost:8080/",
          "height": 374
        },
        "id": "5EkROGjg8Zvr",
        "outputId": "110ab6a9-6e5a-4bbd-b6a5-923f4cc7b7a1"
      },
      "source": [
        "df[:5]"
      ],
      "execution_count": 5,
      "outputs": [
        {
          "output_type": "execute_result",
          "data": {
            "text/html": [
              "<div>\n",
              "<style scoped>\n",
              "    .dataframe tbody tr th:only-of-type {\n",
              "        vertical-align: middle;\n",
              "    }\n",
              "\n",
              "    .dataframe tbody tr th {\n",
              "        vertical-align: top;\n",
              "    }\n",
              "\n",
              "    .dataframe thead th {\n",
              "        text-align: right;\n",
              "    }\n",
              "</style>\n",
              "<table border=\"1\" class=\"dataframe\">\n",
              "  <thead>\n",
              "    <tr style=\"text-align: right;\">\n",
              "      <th></th>\n",
              "      <th>network_code</th>\n",
              "      <th>receiver_code</th>\n",
              "      <th>receiver_type</th>\n",
              "      <th>receiver_latitude</th>\n",
              "      <th>receiver_longitude</th>\n",
              "      <th>receiver_elevation_m</th>\n",
              "      <th>p_arrival_sample</th>\n",
              "      <th>p_status</th>\n",
              "      <th>p_weight</th>\n",
              "      <th>p_travel_sec</th>\n",
              "      <th>s_arrival_sample</th>\n",
              "      <th>s_status</th>\n",
              "      <th>s_weight</th>\n",
              "      <th>source_id</th>\n",
              "      <th>source_origin_time</th>\n",
              "      <th>source_origin_uncertainty_sec</th>\n",
              "      <th>source_latitude</th>\n",
              "      <th>source_longitude</th>\n",
              "      <th>source_error_sec</th>\n",
              "      <th>source_gap_deg</th>\n",
              "      <th>source_horizontal_uncertainty_km</th>\n",
              "      <th>source_depth_km</th>\n",
              "      <th>source_depth_uncertainty_km</th>\n",
              "      <th>source_magnitude</th>\n",
              "      <th>source_magnitude_type</th>\n",
              "      <th>source_magnitude_author</th>\n",
              "      <th>source_mechanism_strike_dip_rake</th>\n",
              "      <th>source_distance_deg</th>\n",
              "      <th>source_distance_km</th>\n",
              "      <th>back_azimuth_deg</th>\n",
              "      <th>snr_db</th>\n",
              "      <th>coda_end_sample</th>\n",
              "      <th>trace_start_time</th>\n",
              "      <th>trace_category</th>\n",
              "      <th>trace_name</th>\n",
              "    </tr>\n",
              "  </thead>\n",
              "  <tbody>\n",
              "    <tr>\n",
              "      <th>0</th>\n",
              "      <td>TA</td>\n",
              "      <td>109C</td>\n",
              "      <td>BH</td>\n",
              "      <td>32.8889</td>\n",
              "      <td>-117.1051</td>\n",
              "      <td>150.0</td>\n",
              "      <td>700.0</td>\n",
              "      <td>manual</td>\n",
              "      <td>0.5</td>\n",
              "      <td>17.080000</td>\n",
              "      <td>1894.0</td>\n",
              "      <td>manual</td>\n",
              "      <td>0.5</td>\n",
              "      <td>8556349</td>\n",
              "      <td>2006-07-23 15:58:50.88</td>\n",
              "      <td>0.47</td>\n",
              "      <td>33.7496</td>\n",
              "      <td>-117.4938</td>\n",
              "      <td>1.1119</td>\n",
              "      <td>107.466</td>\n",
              "      <td>4.6403</td>\n",
              "      <td>0.45</td>\n",
              "      <td>None</td>\n",
              "      <td>3.6</td>\n",
              "      <td>ml</td>\n",
              "      <td>None</td>\n",
              "      <td>None</td>\n",
              "      <td>0.92</td>\n",
              "      <td>102.09</td>\n",
              "      <td>159.3</td>\n",
              "      <td>[56.79999924 55.40000153 47.40000153]</td>\n",
              "      <td>[[2896.]]</td>\n",
              "      <td>2006-07-23 15:59:00.960000</td>\n",
              "      <td>earthquake_local</td>\n",
              "      <td>109C.TA_20060723155859_EV</td>\n",
              "    </tr>\n",
              "    <tr>\n",
              "      <th>1</th>\n",
              "      <td>TA</td>\n",
              "      <td>109C</td>\n",
              "      <td>BH</td>\n",
              "      <td>32.8889</td>\n",
              "      <td>-117.1051</td>\n",
              "      <td>150.0</td>\n",
              "      <td>600.0</td>\n",
              "      <td>manual</td>\n",
              "      <td>0.5</td>\n",
              "      <td>16.879999</td>\n",
              "      <td>1763.0</td>\n",
              "      <td>manual</td>\n",
              "      <td>0.5</td>\n",
              "      <td>8860238</td>\n",
              "      <td>2006-11-03 15:56:42.73</td>\n",
              "      <td>0.24</td>\n",
              "      <td>32.7077</td>\n",
              "      <td>-116.0446</td>\n",
              "      <td>0.899</td>\n",
              "      <td>37.593</td>\n",
              "      <td>2.9542</td>\n",
              "      <td>9.2</td>\n",
              "      <td>None</td>\n",
              "      <td>4.3</td>\n",
              "      <td>mb</td>\n",
              "      <td>None</td>\n",
              "      <td>None</td>\n",
              "      <td>0.91</td>\n",
              "      <td>101.34</td>\n",
              "      <td>281.7</td>\n",
              "      <td>[65.         65.5        61.40000153]</td>\n",
              "      <td>[[5508.]]</td>\n",
              "      <td>2006-11-03 15:56:53.610000</td>\n",
              "      <td>earthquake_local</td>\n",
              "      <td>109C.TA_20061103155652_EV</td>\n",
              "    </tr>\n",
              "    <tr>\n",
              "      <th>2</th>\n",
              "      <td>TA</td>\n",
              "      <td>109C</td>\n",
              "      <td>BH</td>\n",
              "      <td>32.8889</td>\n",
              "      <td>-117.1051</td>\n",
              "      <td>150.0</td>\n",
              "      <td>500.0</td>\n",
              "      <td>manual</td>\n",
              "      <td>0.5</td>\n",
              "      <td>17.260000</td>\n",
              "      <td>1678.0</td>\n",
              "      <td>manual</td>\n",
              "      <td>0.5</td>\n",
              "      <td>8940123</td>\n",
              "      <td>2006-11-03 16:12:12.44</td>\n",
              "      <td>0.27</td>\n",
              "      <td>32.7253</td>\n",
              "      <td>-116.0348</td>\n",
              "      <td>0.8127</td>\n",
              "      <td>48.096</td>\n",
              "      <td>3.0397</td>\n",
              "      <td>12.66</td>\n",
              "      <td>None</td>\n",
              "      <td>3.6</td>\n",
              "      <td>ml</td>\n",
              "      <td>None</td>\n",
              "      <td>None</td>\n",
              "      <td>0.92</td>\n",
              "      <td>101.87</td>\n",
              "      <td>280.5</td>\n",
              "      <td>[37.20000076 42.         38.59999847]</td>\n",
              "      <td>[[3114.]]</td>\n",
              "      <td>2006-11-03 16:12:24.700000</td>\n",
              "      <td>earthquake_local</td>\n",
              "      <td>109C.TA_20061103161223_EV</td>\n",
              "    </tr>\n",
              "    <tr>\n",
              "      <th>3</th>\n",
              "      <td>TA</td>\n",
              "      <td>109C</td>\n",
              "      <td>BH</td>\n",
              "      <td>32.8889</td>\n",
              "      <td>-117.1051</td>\n",
              "      <td>150.0</td>\n",
              "      <td>900.0</td>\n",
              "      <td>manual</td>\n",
              "      <td>0.5</td>\n",
              "      <td>17.280001</td>\n",
              "      <td>2086.0</td>\n",
              "      <td>manual</td>\n",
              "      <td>0.5</td>\n",
              "      <td>9443190</td>\n",
              "      <td>2006-11-14 13:32:14.26</td>\n",
              "      <td>0.25</td>\n",
              "      <td>32.7063</td>\n",
              "      <td>-116.0241</td>\n",
              "      <td>0.9173</td>\n",
              "      <td>43.783</td>\n",
              "      <td>2.6112</td>\n",
              "      <td>11.5</td>\n",
              "      <td>None</td>\n",
              "      <td>3.8</td>\n",
              "      <td>ml</td>\n",
              "      <td>None</td>\n",
              "      <td>None</td>\n",
              "      <td>0.93</td>\n",
              "      <td>103.26</td>\n",
              "      <td>281.6</td>\n",
              "      <td>[54.09999847 54.90000153 45.5       ]</td>\n",
              "      <td>[[3152.]]</td>\n",
              "      <td>2006-11-14 13:32:22.540000</td>\n",
              "      <td>earthquake_local</td>\n",
              "      <td>109C.TA_20061114133221_EV</td>\n",
              "    </tr>\n",
              "    <tr>\n",
              "      <th>4</th>\n",
              "      <td>TA</td>\n",
              "      <td>109C</td>\n",
              "      <td>BH</td>\n",
              "      <td>32.8889</td>\n",
              "      <td>-117.1051</td>\n",
              "      <td>150.0</td>\n",
              "      <td>700.0</td>\n",
              "      <td>manual</td>\n",
              "      <td>0.5</td>\n",
              "      <td>18.139999</td>\n",
              "      <td>1897.0</td>\n",
              "      <td>manual</td>\n",
              "      <td>0.5</td>\n",
              "      <td>9443449</td>\n",
              "      <td>2006-11-27 10:46:29.92</td>\n",
              "      <td>0.67</td>\n",
              "      <td>31.9679</td>\n",
              "      <td>-117.1944</td>\n",
              "      <td>1.0362</td>\n",
              "      <td>182.145</td>\n",
              "      <td>5.6607</td>\n",
              "      <td>7.26</td>\n",
              "      <td>None</td>\n",
              "      <td>3.6</td>\n",
              "      <td>ml</td>\n",
              "      <td>None</td>\n",
              "      <td>None</td>\n",
              "      <td>0.92</td>\n",
              "      <td>102.48</td>\n",
              "      <td>4.7</td>\n",
              "      <td>[58.20000076 56.20000076 53.79999924]</td>\n",
              "      <td>[[3134.]]</td>\n",
              "      <td>2006-11-27 10:46:41.060000</td>\n",
              "      <td>earthquake_local</td>\n",
              "      <td>109C.TA_20061127104640_EV</td>\n",
              "    </tr>\n",
              "  </tbody>\n",
              "</table>\n",
              "</div>"
            ],
            "text/plain": [
              "  network_code receiver_code  ...    trace_category                 trace_name\n",
              "0           TA          109C  ...  earthquake_local  109C.TA_20060723155859_EV\n",
              "1           TA          109C  ...  earthquake_local  109C.TA_20061103155652_EV\n",
              "2           TA          109C  ...  earthquake_local  109C.TA_20061103161223_EV\n",
              "3           TA          109C  ...  earthquake_local  109C.TA_20061114133221_EV\n",
              "4           TA          109C  ...  earthquake_local  109C.TA_20061127104640_EV\n",
              "\n",
              "[5 rows x 35 columns]"
            ]
          },
          "metadata": {
            "tags": []
          },
          "execution_count": 5
        }
      ]
    },
    {
      "cell_type": "code",
      "metadata": {
        "id": "NPNqMC3PDNKv",
        "colab": {
          "base_uri": "https://localhost:8080/"
        },
        "outputId": "d433e068-eea0-4d79-d11a-05eb4b0385a7"
      },
      "source": [
        "print(f'total events in csv file: {len(df)}')"
      ],
      "execution_count": 6,
      "outputs": [
        {
          "output_type": "stream",
          "text": [
            "total events in csv file: 200000\n"
          ],
          "name": "stdout"
        }
      ]
    },
    {
      "cell_type": "code",
      "metadata": {
        "colab": {
          "base_uri": "https://localhost:8080/"
        },
        "id": "UsnWNxW39H60",
        "outputId": "76400429-60f9-4080-e122-20274aeb3555"
      },
      "source": [
        "df.index"
      ],
      "execution_count": 7,
      "outputs": [
        {
          "output_type": "execute_result",
          "data": {
            "text/plain": [
              "RangeIndex(start=0, stop=200000, step=1)"
            ]
          },
          "metadata": {
            "tags": []
          },
          "execution_count": 7
        }
      ]
    },
    {
      "cell_type": "code",
      "metadata": {
        "id": "GUKXbSuBBn7Q",
        "colab": {
          "base_uri": "https://localhost:8080/"
        },
        "outputId": "8f62b9f4-b343-4be0-df7f-f2656ae0fd9a"
      },
      "source": [
        "# filterering the dataframe\n",
        "df = df[(df.trace_category == 'earthquake_local') & (df.source_distance_km <= 20) & (df.source_magnitude > 3)]\n",
        "print(f'total events selected: {len(df)}')"
      ],
      "execution_count": 32,
      "outputs": [
        {
          "output_type": "stream",
          "text": [
            "total events selected: 268\n"
          ],
          "name": "stdout"
        }
      ]
    },
    {
      "cell_type": "code",
      "metadata": {
        "id": "9GPqgS5P-Fgb"
      },
      "source": [
        "# making a list of trace names for the selected data\n",
        "ev_list = df['trace_name'].to_list()"
      ],
      "execution_count": 33,
      "outputs": []
    },
    {
      "cell_type": "code",
      "metadata": {
        "id": "Om1BM6YaDXdp",
        "colab": {
          "base_uri": "https://localhost:8080/"
        },
        "outputId": "ad72c9a8-f391-4fa3-96a0-0a801109d64e"
      },
      "source": [
        "ev_list[:5]"
      ],
      "execution_count": 34,
      "outputs": [
        {
          "output_type": "execute_result",
          "data": {
            "text/plain": [
              "['A16.CN_20150121053158_EV',\n",
              " 'A64.CN_20130711201601_EV',\n",
              " 'AC04.C1_20140616231955_EV',\n",
              " 'AC04.C1_20140720063145_EV',\n",
              " 'AC04.C1_20140720063148_EV']"
            ]
          },
          "metadata": {
            "tags": []
          },
          "execution_count": 34
        }
      ]
    },
    {
      "cell_type": "code",
      "metadata": {
        "colab": {
          "base_uri": "https://localhost:8080/"
        },
        "id": "TiMXlgdZO1SY",
        "outputId": "957c530a-3afa-4345-af74-03b4a9aaa3e8"
      },
      "source": [
        "#read one signal shape(6000,3)\n",
        "hdf5_path = 'gdrive/My Drive/Colab Notebooks/Seismic Dataset/unzipdataChunk2/chunk2.hdf5'\n",
        "with h5py.File(hdf5_path, \"r\") as h5_file:\n",
        "  ls=list(h5_file.keys())\n",
        "  print('List of keys of the file: \\n', ls)\n",
        "  #base_items=list(h5_file.items())\n",
        "  #print('List of keys of the file: \\n', base_items)\n",
        "  Signal1=h5_file.get('data/'+str('A16.CN_20150121053158_EV'))  \n",
        "  #Signal1items=list(Signal1.keys())\n",
        "  print('List of keys of the file: \\n', Signal1)\n",
        "  atributos=Signal1.attrs\n",
        "  data2 = np.array(atributos)\n",
        "  \n",
        "  data = np.array(Signal1)\n",
        "  #data=h5_file.get('data')\n",
        "  #dataset=np.array(data)"
      ],
      "execution_count": 39,
      "outputs": [
        {
          "output_type": "stream",
          "text": [
            "List of keys of the file: \n",
            " ['data']\n",
            "List of keys of the file: \n",
            " <HDF5 dataset \"A16.CN_20150121053158_EV\": shape (6000, 3), type \"<f4\">\n"
          ],
          "name": "stdout"
        }
      ]
    },
    {
      "cell_type": "code",
      "metadata": {
        "colab": {
          "base_uri": "https://localhost:8080/"
        },
        "id": "VIeBXr6ZkzMr",
        "outputId": "f15376e1-40c5-4a99-b5d2-a474eef6c53b"
      },
      "source": [
        "data.shape"
      ],
      "execution_count": 12,
      "outputs": [
        {
          "output_type": "execute_result",
          "data": {
            "text/plain": [
              "(6000, 3)"
            ]
          },
          "metadata": {
            "tags": []
          },
          "execution_count": 12
        }
      ]
    },
    {
      "cell_type": "code",
      "metadata": {
        "colab": {
          "base_uri": "https://localhost:8080/"
        },
        "id": "JujPIwaP6sB-",
        "outputId": "7cd4bd97-59d6-4b03-ab6f-639303587547"
      },
      "source": [
        "data2"
      ],
      "execution_count": 40,
      "outputs": [
        {
          "output_type": "execute_result",
          "data": {
            "text/plain": [
              "array(['back_azimuth_deg', 'coda_end_sample', 'network_code',\n",
              "       'p_arrival_sample', 'p_status', 'p_travel_sec', 'p_weight',\n",
              "       'receiver_code', 'receiver_elevation_m', 'receiver_latitude',\n",
              "       'receiver_longitude', 'receiver_type', 's_arrival_sample',\n",
              "       's_status', 's_weight', 'snr_db', 'source_depth_km',\n",
              "       'source_depth_uncertainty_km', 'source_distance_deg',\n",
              "       'source_distance_km', 'source_error_sec', 'source_gap_deg',\n",
              "       'source_horizontal_uncertainty_km', 'source_id', 'source_latitude',\n",
              "       'source_longitude', 'source_magnitude', 'source_magnitude_author',\n",
              "       'source_magnitude_type', 'source_mechanism_strike_dip_rake',\n",
              "       'source_origin_time', 'source_origin_uncertainty_sec',\n",
              "       'trace_category', 'trace_name', 'trace_start_time'], dtype='<U32')"
            ]
          },
          "metadata": {
            "tags": []
          },
          "execution_count": 40
        }
      ]
    },
    {
      "cell_type": "code",
      "metadata": {
        "id": "6KUoVWvw7Rm4"
      },
      "source": [
        ""
      ],
      "execution_count": null,
      "outputs": []
    },
    {
      "cell_type": "code",
      "metadata": {
        "id": "RcZiscr_6-tX"
      },
      "source": [
        ""
      ],
      "execution_count": null,
      "outputs": []
    },
    {
      "cell_type": "code",
      "metadata": {
        "id": "p2Huz2zi6t64"
      },
      "source": [
        ""
      ],
      "execution_count": null,
      "outputs": []
    },
    {
      "cell_type": "code",
      "metadata": {
        "colab": {
          "base_uri": "https://localhost:8080/"
        },
        "id": "J4x6-KRNXePK",
        "outputId": "fa81246a-8595-47d9-e37d-816dfab641fb"
      },
      "source": [
        "data[:,1]"
      ],
      "execution_count": 13,
      "outputs": [
        {
          "output_type": "execute_result",
          "data": {
            "text/plain": [
              "array([-0.        , -0.0137389 , -0.03770534, ...,  0.06960968,\n",
              "        0.04253528,  0.        ], dtype=float32)"
            ]
          },
          "metadata": {
            "tags": []
          },
          "execution_count": 13
        }
      ]
    },
    {
      "cell_type": "code",
      "metadata": {
        "colab": {
          "base_uri": "https://localhost:8080/",
          "height": 968
        },
        "id": "VbeBPIQ3nAH8",
        "outputId": "71414b7b-e4bc-446a-83f0-e3395d0a1bb9"
      },
      "source": [
        "hdf5_path = 'gdrive/My Drive/Colab Notebooks/Seismic Dataset/unzipdataChunk2/chunk2.hdf5'\n",
        "with h5py.File(hdf5_path, \"r\") as h5_file:\n",
        " #for c, evi in enumerate(ev_list):\n",
        "  dataset = h5_file.get('data/'+str('A16.CN_20150121053158_EV')) \n",
        "  # waveforms, 3 channels: first row: E channel, second row: N channel, third row: Z channel \n",
        "  data = np.array(dataset)\n",
        "  fig = plt.figure()\n",
        "  ax = fig.add_subplot(311)         \n",
        "  plt.plot(data[:,0], 'k')\n",
        "  plt.rcParams[\"figure.figsize\"] = (8, 5)\n",
        "  legend_properties = {'weight':'bold'}    \n",
        "  plt.tight_layout()\n",
        "  ymin, ymax = ax.get_ylim()\n",
        "  pl = plt.vlines(dataset.attrs['p_arrival_sample'], ymin, ymax, color='b', linewidth=2, label='P-arrival')\n",
        "  sl = plt.vlines(dataset.attrs['s_arrival_sample'], ymin, ymax, color='r', linewidth=2, label='S-arrival')\n",
        "  cl = plt.vlines(dataset.attrs['coda_end_sample'], ymin, ymax, color='aqua', linewidth=2, label='Coda End')\n",
        "  plt.legend(handles=[pl, sl, cl], loc = 'upper right', borderaxespad=0., prop=legend_properties)        \n",
        "  plt.ylabel('Amplitude counts', fontsize=12) \n",
        "  ax.set_xticklabels([])\n",
        "\n",
        "  ax = fig.add_subplot(312)         \n",
        "  plt.plot(data[:,1], 'k')\n",
        "  plt.rcParams[\"figure.figsize\"] = (8, 5)\n",
        "  legend_properties = {'weight':'bold'}    \n",
        "  plt.tight_layout()\n",
        "  ymin, ymax = ax.get_ylim()\n",
        "  pl = plt.vlines(dataset.attrs['p_arrival_sample'], ymin, ymax, color='b', linewidth=2, label='P-arrival')\n",
        "  sl = plt.vlines(dataset.attrs['s_arrival_sample'], ymin, ymax, color='r', linewidth=2, label='S-arrival')\n",
        "  cl = plt.vlines(dataset.attrs['coda_end_sample'], ymin, ymax, color='aqua', linewidth=2, label='Coda End')\n",
        "  plt.legend(handles=[pl, sl, cl], loc = 'upper right', borderaxespad=0., prop=legend_properties)        \n",
        "  plt.ylabel('Amplitude counts', fontsize=12) \n",
        "  ax.set_xticklabels([])\n",
        "\n",
        "  ax = fig.add_subplot(313)         \n",
        "  plt.plot(data[:,2], 'k')\n",
        "  plt.rcParams[\"figure.figsize\"] = (8,5)\n",
        "  legend_properties = {'weight':'bold'}    \n",
        "  plt.tight_layout()\n",
        "  ymin, ymax = ax.get_ylim()\n",
        "  pl = plt.vlines(dataset.attrs['p_arrival_sample'], ymin, ymax, color='b', linewidth=2, label='P-arrival')\n",
        "  sl = plt.vlines(dataset.attrs['s_arrival_sample'], ymin, ymax, color='r', linewidth=2, label='S-arrival')\n",
        "  cl = plt.vlines(dataset.attrs['coda_end_sample'], ymin, ymax, color='aqua', linewidth=2, label='Coda End')\n",
        "  plt.legend(handles=[pl, sl, cl], loc = 'upper right', borderaxespad=0., prop=legend_properties)        \n",
        "  plt.ylabel('Amplitude counts', fontsize=12) \n",
        "  ax.set_xticklabels([])\n",
        "  plt.show() \n",
        "\n",
        "  for at in dataset.attrs:\n",
        "    print(at, dataset.attrs[at])    \n",
        "\n",
        "    \n"
      ],
      "execution_count": 45,
      "outputs": [
        {
          "output_type": "display_data",
          "data": {
            "image/png": "[encoded data removed]",
            "text/plain": [
              "<Figure size 576x360 with 3 Axes>"
            ]
          },
          "metadata": {
            "tags": [],
            "needs_background": "light"
          }
        },
        {
          "output_type": "stream",
          "text": [
            "back_azimuth_deg 56.9\n",
            "coda_end_sample [[1228.]]\n",
            "network_code CN\n",
            "p_arrival_sample 400.0\n",
            "p_status manual\n",
            "p_travel_sec 4.630000114440918\n",
            "p_weight 0.5\n",
            "receiver_code A16\n",
            "receiver_elevation_m 13.0\n",
            "receiver_latitude 47.468\n",
            "receiver_longitude -70.0096\n",
            "receiver_type HH\n",
            "s_arrival_sample 686.0\n",
            "s_status manual\n",
            "s_weight 0.5\n",
            "snr_db [72.40000153 61.70000076 62.20000076]\n",
            "source_depth_km 17.42\n",
            "source_depth_uncertainty_km 7.6\n",
            "source_distance_deg 0.18\n",
            "source_distance_km 19.21\n",
            "source_error_sec 0.8797\n",
            "source_gap_deg 37.699\n",
            "source_horizontal_uncertainty_km 2.68655\n",
            "source_id 606589340\n",
            "source_latitude 47.3748\n",
            "source_longitude -70.2239\n",
            "source_magnitude 3.7\n",
            "source_magnitude_author None\n",
            "source_magnitude_type mb_lg\n",
            "source_mechanism_strike_dip_rake None\n",
            "source_origin_time 2015-01-21 05:31:58.92\n",
            "source_origin_uncertainty_sec 0.76\n",
            "trace_category earthquake_local\n",
            "trace_name A16.CN_20150121053158_EV\n",
            "trace_start_time 2015-01-21 05:31:59.550000\n"
          ],
          "name": "stdout"
        }
      ]
    },
    {
      "cell_type": "code",
      "metadata": {
        "colab": {
          "base_uri": "https://localhost:8080/"
        },
        "id": "3HlImguUnJGn",
        "outputId": "5dd0316e-411a-46a9-e52f-0b8a2a5fc846"
      },
      "source": [
        "data.shape"
      ],
      "execution_count": 15,
      "outputs": [
        {
          "output_type": "execute_result",
          "data": {
            "text/plain": [
              "(6000, 3)"
            ]
          },
          "metadata": {
            "tags": []
          },
          "execution_count": 15
        }
      ]
    },
    {
      "cell_type": "code",
      "metadata": {
        "colab": {
          "base_uri": "https://localhost:8080/"
        },
        "id": "UUZcuf7z5-GA",
        "outputId": "642f7946-5b28-4eca-96e7-03c6a7d8b885"
      },
      "source": [
        "dataset.attrs"
      ],
      "execution_count": 46,
      "outputs": [
        {
          "output_type": "execute_result",
          "data": {
            "text/plain": [
              "<Attributes of closed HDF5 object>"
            ]
          },
          "metadata": {
            "tags": []
          },
          "execution_count": 46
        }
      ]
    },
    {
      "cell_type": "code",
      "metadata": {
        "colab": {
          "base_uri": "https://localhost:8080/"
        },
        "id": "kZemaqTC6L-d",
        "outputId": "e6b56158-22df-416d-b8e9-18155941c941"
      },
      "source": [
        "!pwd"
      ],
      "execution_count": 47,
      "outputs": [
        {
          "output_type": "stream",
          "text": [
            "/content\n"
          ],
          "name": "stdout"
        }
      ]
    },
    {
      "cell_type": "code",
      "metadata": {
        "colab": {
          "base_uri": "https://localhost:8080/"
        },
        "id": "d4_vdlNh_CCk",
        "outputId": "d23481e9-9ace-4226-a303-8d9ed065ba35"
      },
      "source": [
        "!ls"
      ],
      "execution_count": 48,
      "outputs": [
        {
          "output_type": "stream",
          "text": [
            "drive  gdrive  sample_data\n"
          ],
          "name": "stdout"
        }
      ]
    },
    {
      "cell_type": "code",
      "metadata": {
        "id": "GBns6U5VTHuO"
      },
      "source": [
        ""
      ],
      "execution_count": null,
      "outputs": []
    },
    {
      "cell_type": "code",
      "metadata": {
        "id": "lUtvanfSTe8_"
      },
      "source": [
        ""
      ],
      "execution_count": null,
      "outputs": []
    },
    {
      "cell_type": "code",
      "metadata": {
        "id": "WtZUbaM7ThDb"
      },
      "source": [
        ""
      ],
      "execution_count": null,
      "outputs": []
    },
    {
      "cell_type": "code",
      "metadata": {
        "id": "ARVD9NAGTljX"
      },
      "source": [
        ""
      ],
      "execution_count": null,
      "outputs": []
    },
    {
      "cell_type": "code",
      "metadata": {
        "id": "GTbenoZZTqm6"
      },
      "source": [
        ""
      ],
      "execution_count": null,
      "outputs": []
    },
    {
      "cell_type": "code",
      "metadata": {
        "id": "e0P56wBiPydO"
      },
      "source": [
        "\n"
      ],
      "execution_count": null,
      "outputs": []
    },
    {
      "cell_type": "code",
      "metadata": {
        "id": "wOadUGTEP3Yu"
      },
      "source": [
        ""
      ],
      "execution_count": null,
      "outputs": []
    },
    {
      "cell_type": "code",
      "metadata": {
        "id": "eCYaP-n7P54e"
      },
      "source": [
        ""
      ],
      "execution_count": null,
      "outputs": []
    },
    {
      "cell_type": "code",
      "metadata": {
        "id": "Amvyq4ObPeVW"
      },
      "source": [
        "\n"
      ],
      "execution_count": null,
      "outputs": []
    }
  ]
}